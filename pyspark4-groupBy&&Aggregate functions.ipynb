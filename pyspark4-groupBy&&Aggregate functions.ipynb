{
 "cells": [
  {
   "cell_type": "code",
   "execution_count": 1,
   "id": "29ab8a0b",
   "metadata": {},
   "outputs": [],
   "source": [
    "from pyspark.sql import SparkSession"
   ]
  },
  {
   "cell_type": "code",
   "execution_count": 2,
   "id": "67aff8c5",
   "metadata": {},
   "outputs": [],
   "source": [
    "spark=SparkSession.builder.appName('Agg').getOrCreate()"
   ]
  },
  {
   "cell_type": "code",
   "execution_count": 3,
   "id": "9872e4ea",
   "metadata": {},
   "outputs": [
    {
     "data": {
      "text/html": [
       "\n",
       "            <div>\n",
       "                <p><b>SparkSession - in-memory</b></p>\n",
       "                \n",
       "        <div>\n",
       "            <p><b>SparkContext</b></p>\n",
       "\n",
       "            <p><a href=\"http://LingYohan:4044\">Spark UI</a></p>\n",
       "\n",
       "            <dl>\n",
       "              <dt>Version</dt>\n",
       "                <dd><code>v3.3.2</code></dd>\n",
       "              <dt>Master</dt>\n",
       "                <dd><code>local[*]</code></dd>\n",
       "              <dt>AppName</dt>\n",
       "                <dd><code>Agg</code></dd>\n",
       "            </dl>\n",
       "        </div>\n",
       "        \n",
       "            </div>\n",
       "        "
      ],
      "text/plain": [
       "<pyspark.sql.session.SparkSession at 0x294a6843910>"
      ]
     },
     "execution_count": 3,
     "metadata": {},
     "output_type": "execute_result"
    }
   ],
   "source": [
    "spark"
   ]
  },
  {
   "cell_type": "code",
   "execution_count": 4,
   "id": "31037581",
   "metadata": {},
   "outputs": [],
   "source": [
    "df = spark.read.csv('employees.csv',header=True, inferSchema=True)  "
   ]
  },
  {
   "cell_type": "code",
   "execution_count": 5,
   "id": "d3c1af00",
   "metadata": {},
   "outputs": [
    {
     "name": "stdout",
     "output_type": "stream",
     "text": [
      "+------+------------+------+\n",
      "|  NAME| DEPARTMENTS|SALARY|\n",
      "+------+------------+------+\n",
      "|Johnny|Data Science| 50000|\n",
      "|Johnny|         IOT| 23000|\n",
      "|  Matt|    Big Data| 32000|\n",
      "|Johnny|    Big Data| 32000|\n",
      "|  Matt|Data Science| 65000|\n",
      "|Suresh|Data Science| 70000|\n",
      "|Suresh|         IOT| 43000|\n",
      "|Suresh|    Big Data| 50000|\n",
      "| Sunny|Data Science| 21000|\n",
      "| Sunny|    Big Data| 12000|\n",
      "+------+------------+------+\n",
      "\n"
     ]
    }
   ],
   "source": [
    "df.show()"
   ]
  },
  {
   "cell_type": "code",
   "execution_count": 6,
   "id": "4f3ad394",
   "metadata": {},
   "outputs": [
    {
     "name": "stdout",
     "output_type": "stream",
     "text": [
      "root\n",
      " |-- NAME: string (nullable = true)\n",
      " |-- DEPARTMENTS: string (nullable = true)\n",
      " |-- SALARY: integer (nullable = true)\n",
      "\n"
     ]
    }
   ],
   "source": [
    "df.printSchema()"
   ]
  },
  {
   "cell_type": "code",
   "execution_count": 11,
   "id": "34d33e7b",
   "metadata": {},
   "outputs": [
    {
     "name": "stdout",
     "output_type": "stream",
     "text": [
      "+------+-----------+\n",
      "|  NAME|sum(SALARY)|\n",
      "+------+-----------+\n",
      "|Suresh|     163000|\n",
      "| Sunny|      33000|\n",
      "|Johnny|     105000|\n",
      "|  Matt|      97000|\n",
      "+------+-----------+\n",
      "\n"
     ]
    }
   ],
   "source": [
    "## Groupby operations\n",
    "### Finding the max salary\n",
    "\n",
    "df.groupBy('NAME').sum().show()"
   ]
  },
  {
   "cell_type": "code",
   "execution_count": 17,
   "id": "9ffebded",
   "metadata": {},
   "outputs": [
    {
     "name": "stdout",
     "output_type": "stream",
     "text": [
      "+------------+-----------+\n",
      "| DEPARTMENTS|sum(SALARY)|\n",
      "+------------+-----------+\n",
      "|         IOT|      66000|\n",
      "|    Big Data|     126000|\n",
      "|Data Science|     206000|\n",
      "+------------+-----------+\n",
      "\n"
     ]
    }
   ],
   "source": [
    "### Groupby departments to find the max salary.\n",
    "df.groupBy('DEPARTMENTS').sum().show()"
   ]
  },
  {
   "cell_type": "code",
   "execution_count": 18,
   "id": "e5cc9356",
   "metadata": {},
   "outputs": [
    {
     "name": "stdout",
     "output_type": "stream",
     "text": [
      "+------------+-----------+\n",
      "| DEPARTMENTS|avg(SALARY)|\n",
      "+------------+-----------+\n",
      "|         IOT|    33000.0|\n",
      "|    Big Data|    31500.0|\n",
      "|Data Science|    51500.0|\n",
      "+------------+-----------+\n",
      "\n"
     ]
    }
   ],
   "source": [
    "df.groupBy('DEPARTMENTS').mean().show()"
   ]
  },
  {
   "cell_type": "code",
   "execution_count": 19,
   "id": "fd102222",
   "metadata": {},
   "outputs": [
    {
     "name": "stdout",
     "output_type": "stream",
     "text": [
      "+------------+-----+\n",
      "| DEPARTMENTS|count|\n",
      "+------------+-----+\n",
      "|         IOT|    2|\n",
      "|    Big Data|    4|\n",
      "|Data Science|    4|\n",
      "+------------+-----+\n",
      "\n"
     ]
    }
   ],
   "source": [
    " df.groupBy('DEPARTMENTS').count().show()"
   ]
  },
  {
   "cell_type": "code",
   "execution_count": 21,
   "id": "0a1ea747",
   "metadata": {},
   "outputs": [
    {
     "name": "stdout",
     "output_type": "stream",
     "text": [
      "+-----------+\n",
      "|sum(SALARY)|\n",
      "+-----------+\n",
      "|     398000|\n",
      "+-----------+\n",
      "\n"
     ]
    }
   ],
   "source": [
    "df.agg({'SALARY':'sum'}).show()\n",
    "## aggregate of total salary."
   ]
  },
  {
   "cell_type": "code",
   "execution_count": 23,
   "id": "4610a0ae",
   "metadata": {},
   "outputs": [
    {
     "name": "stdout",
     "output_type": "stream",
     "text": [
      "+------+-----------+\n",
      "|  NAME|max(SALARY)|\n",
      "+------+-----------+\n",
      "|Suresh|      70000|\n",
      "| Sunny|      21000|\n",
      "|Johnny|      50000|\n",
      "|  Matt|      65000|\n",
      "+------+-----------+\n",
      "\n"
     ]
    }
   ],
   "source": [
    "df.groupBy('NAME').max().show()"
   ]
  },
  {
   "cell_type": "code",
   "execution_count": 26,
   "id": "13c50343",
   "metadata": {},
   "outputs": [
    {
     "name": "stdout",
     "output_type": "stream",
     "text": [
      "+------+-----------+\n",
      "|  NAME|min(SALARY)|\n",
      "+------+-----------+\n",
      "|Suresh|      43000|\n",
      "| Sunny|      12000|\n",
      "|Johnny|      23000|\n",
      "|  Matt|      32000|\n",
      "+------+-----------+\n",
      "\n"
     ]
    }
   ],
   "source": [
    "df.groupBy('NAME').min().show()"
   ]
  },
  {
   "cell_type": "code",
   "execution_count": null,
   "id": "bc319cec",
   "metadata": {},
   "outputs": [],
   "source": []
  }
 ],
 "metadata": {
  "kernelspec": {
   "display_name": "newenv",
   "language": "python",
   "name": "newenv"
  },
  "language_info": {
   "codemirror_mode": {
    "name": "ipython",
    "version": 3
   },
   "file_extension": ".py",
   "mimetype": "text/x-python",
   "name": "python",
   "nbconvert_exporter": "python",
   "pygments_lexer": "ipython3",
   "version": "3.9.7"
  }
 },
 "nbformat": 4,
 "nbformat_minor": 5
}
