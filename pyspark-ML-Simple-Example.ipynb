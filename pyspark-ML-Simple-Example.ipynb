{
 "cells": [
  {
   "cell_type": "code",
   "execution_count": 1,
   "id": "c007d612",
   "metadata": {},
   "outputs": [],
   "source": [
    "from pyspark.sql import SparkSession"
   ]
  },
  {
   "cell_type": "code",
   "execution_count": 3,
   "id": "7b473363",
   "metadata": {},
   "outputs": [],
   "source": [
    "spark=SparkSession.builder.appName('snoozer').getOrCreate()"
   ]
  },
  {
   "cell_type": "code",
   "execution_count": 4,
   "id": "b83c3174",
   "metadata": {},
   "outputs": [
    {
     "data": {
      "text/html": [
       "\n",
       "            <div>\n",
       "                <p><b>SparkSession - in-memory</b></p>\n",
       "                \n",
       "        <div>\n",
       "            <p><b>SparkContext</b></p>\n",
       "\n",
       "            <p><a href=\"http://LingYohan:4045\">Spark UI</a></p>\n",
       "\n",
       "            <dl>\n",
       "              <dt>Version</dt>\n",
       "                <dd><code>v3.3.2</code></dd>\n",
       "              <dt>Master</dt>\n",
       "                <dd><code>local[*]</code></dd>\n",
       "              <dt>AppName</dt>\n",
       "                <dd><code>snoozer</code></dd>\n",
       "            </dl>\n",
       "        </div>\n",
       "        \n",
       "            </div>\n",
       "        "
      ],
      "text/plain": [
       "<pyspark.sql.session.SparkSession at 0x16f52a099a0>"
      ]
     },
     "execution_count": 4,
     "metadata": {},
     "output_type": "execute_result"
    }
   ],
   "source": [
    "spark"
   ]
  },
  {
   "cell_type": "code",
   "execution_count": 15,
   "id": "12340168",
   "metadata": {},
   "outputs": [],
   "source": [
    "df = spark.read.csv('test.csv', header=True, inferSchema=True)"
   ]
  },
  {
   "cell_type": "code",
   "execution_count": 20,
   "id": "c2c7d983",
   "metadata": {},
   "outputs": [
    {
     "name": "stdout",
     "output_type": "stream",
     "text": [
      "+-----+----+----------+------+\n",
      "| NAME| AGE|EXPERIENCE|SALARY|\n",
      "+-----+----+----------+------+\n",
      "| JON |  31|        10| 30000|\n",
      "|  VON|  53|        20| 60000|\n",
      "|  RON|  25|         2| 10000|\n",
      "|BJORK|  23|         1| 10000|\n",
      "| DORK|null|      null| 30000|\n",
      "+-----+----+----------+------+\n",
      "\n"
     ]
    }
   ],
   "source": [
    "df = df.na.drop(subset='NAME')\n",
    "df.show()"
   ]
  },
  {
   "cell_type": "code",
   "execution_count": 21,
   "id": "b47919d9",
   "metadata": {},
   "outputs": [
    {
     "name": "stdout",
     "output_type": "stream",
     "text": [
      "+-----+---+----------+------+\n",
      "| NAME|AGE|EXPERIENCE|SALARY|\n",
      "+-----+---+----------+------+\n",
      "| JON | 31|        10| 30000|\n",
      "|  VON| 53|        20| 60000|\n",
      "|  RON| 25|         2| 10000|\n",
      "|BJORK| 23|         1| 10000|\n",
      "| DORK| 25|         2| 30000|\n",
      "+-----+---+----------+------+\n",
      "\n"
     ]
    }
   ],
   "source": [
    "from pyspark.ml.feature import Imputer\n",
    "\n",
    "imputer = Imputer(\n",
    "    inputCols=['AGE','EXPERIENCE'],\n",
    "    outputCols=['AGE','EXPERIENCE']\n",
    ").setStrategy(\"median\")\n",
    "\n",
    "df = imputer.fit(df).transform(df)\n",
    "df.show()"
   ]
  },
  {
   "cell_type": "code",
   "execution_count": 23,
   "id": "492fb558",
   "metadata": {},
   "outputs": [
    {
     "name": "stdout",
     "output_type": "stream",
     "text": [
      "root\n",
      " |-- NAME: string (nullable = true)\n",
      " |-- AGE: integer (nullable = true)\n",
      " |-- EXPERIENCE: integer (nullable = true)\n",
      " |-- SALARY: integer (nullable = true)\n",
      "\n"
     ]
    }
   ],
   "source": [
    "df.printSchema()"
   ]
  },
  {
   "cell_type": "code",
   "execution_count": 25,
   "id": "4d1f39ec",
   "metadata": {},
   "outputs": [
    {
     "data": {
      "text/plain": [
       "['NAME', 'AGE', 'EXPERIENCE', 'SALARY']"
      ]
     },
     "execution_count": 25,
     "metadata": {},
     "output_type": "execute_result"
    }
   ],
   "source": [
    "df.columns"
   ]
  },
  {
   "cell_type": "code",
   "execution_count": 26,
   "id": "3096b605",
   "metadata": {},
   "outputs": [],
   "source": [
    "## merging features into a single independant feature.\n",
    "from pyspark.ml.feature import VectorAssembler\n",
    "\n",
    "featureAssembler = VectorAssembler(inputCols=['AGE','EXPERIENCE'], outputCol='AE')"
   ]
  },
  {
   "cell_type": "code",
   "execution_count": 27,
   "id": "5fe7347f",
   "metadata": {},
   "outputs": [],
   "source": [
    "output=featureAssembler.transform(df)"
   ]
  },
  {
   "cell_type": "code",
   "execution_count": 29,
   "id": "56d82a55",
   "metadata": {},
   "outputs": [
    {
     "name": "stdout",
     "output_type": "stream",
     "text": [
      "+-----+---+----------+------+-----------+\n",
      "| NAME|AGE|EXPERIENCE|SALARY|         AE|\n",
      "+-----+---+----------+------+-----------+\n",
      "| JON | 31|        10| 30000|[31.0,10.0]|\n",
      "|  VON| 53|        20| 60000|[53.0,20.0]|\n",
      "|  RON| 25|         2| 10000| [25.0,2.0]|\n",
      "|BJORK| 23|         1| 10000| [23.0,1.0]|\n",
      "| DORK| 25|         2| 30000| [25.0,2.0]|\n",
      "+-----+---+----------+------+-----------+\n",
      "\n"
     ]
    },
    {
     "data": {
      "text/plain": [
       "['NAME', 'AGE', 'EXPERIENCE', 'SALARY', 'AE']"
      ]
     },
     "execution_count": 29,
     "metadata": {},
     "output_type": "execute_result"
    }
   ],
   "source": [
    "output.show()\n",
    "output.columns"
   ]
  },
  {
   "cell_type": "code",
   "execution_count": 31,
   "id": "b4983949",
   "metadata": {},
   "outputs": [
    {
     "name": "stdout",
     "output_type": "stream",
     "text": [
      "+-----------+------+\n",
      "|         AE|SALARY|\n",
      "+-----------+------+\n",
      "|[31.0,10.0]| 30000|\n",
      "|[53.0,20.0]| 60000|\n",
      "| [25.0,2.0]| 10000|\n",
      "| [23.0,1.0]| 10000|\n",
      "| [25.0,2.0]| 30000|\n",
      "+-----------+------+\n",
      "\n"
     ]
    }
   ],
   "source": [
    "final_data=output.select('AE','SALARY')\n",
    "final_data.show()"
   ]
  },
  {
   "cell_type": "code",
   "execution_count": 32,
   "id": "b26f917a",
   "metadata": {},
   "outputs": [],
   "source": [
    "from pyspark.ml.regression import LinearRegression\n",
    "train_data, test_data = final_data.randomSplit([0.75,0.25])\n",
    "\n",
    "regressor=LinearRegression(featuresCol='AE', labelCol='SALARY')\n",
    "regressor=regressor.fit(train_data)"
   ]
  },
  {
   "cell_type": "code",
   "execution_count": 33,
   "id": "1f57da77",
   "metadata": {},
   "outputs": [
    {
     "data": {
      "text/plain": [
       "DenseVector([-2000.0, 4000.0])"
      ]
     },
     "execution_count": 33,
     "metadata": {},
     "output_type": "execute_result"
    }
   ],
   "source": [
    "regressor.coefficients"
   ]
  },
  {
   "cell_type": "code",
   "execution_count": 34,
   "id": "f42a0f62",
   "metadata": {},
   "outputs": [
    {
     "data": {
      "text/plain": [
       "52000.00000000378"
      ]
     },
     "execution_count": 34,
     "metadata": {},
     "output_type": "execute_result"
    }
   ],
   "source": [
    "regressor.intercept"
   ]
  },
  {
   "cell_type": "code",
   "execution_count": 36,
   "id": "429c2f60",
   "metadata": {},
   "outputs": [],
   "source": [
    "pred=regressor.evaluate(train_data)"
   ]
  },
  {
   "cell_type": "code",
   "execution_count": 38,
   "id": "4494ae0e",
   "metadata": {},
   "outputs": [
    {
     "name": "stdout",
     "output_type": "stream",
     "text": [
      "+-----------+------+------------------+\n",
      "|         AE|SALARY|        prediction|\n",
      "+-----------+------+------------------+\n",
      "| [23.0,1.0]| 10000|10000.000000000087|\n",
      "| [25.0,2.0]| 10000|  9999.99999999989|\n",
      "|[31.0,10.0]| 30000|30000.000000000022|\n",
      "+-----------+------+------------------+\n",
      "\n"
     ]
    }
   ],
   "source": [
    "pred.predictions.show()"
   ]
  },
  {
   "cell_type": "code",
   "execution_count": 39,
   "id": "3747cb1a",
   "metadata": {},
   "outputs": [
    {
     "data": {
      "text/plain": [
       "(7.275957614183426e-11, 6.670384459627615e-21)"
      ]
     },
     "execution_count": 39,
     "metadata": {},
     "output_type": "execute_result"
    }
   ],
   "source": [
    "pred.meanAbsoluteError,pred.meanSquaredError"
   ]
  },
  {
   "cell_type": "code",
   "execution_count": null,
   "id": "4b2efc24",
   "metadata": {},
   "outputs": [],
   "source": []
  }
 ],
 "metadata": {
  "kernelspec": {
   "display_name": "newenv",
   "language": "python",
   "name": "newenv"
  },
  "language_info": {
   "codemirror_mode": {
    "name": "ipython",
    "version": 3
   },
   "file_extension": ".py",
   "mimetype": "text/x-python",
   "name": "python",
   "nbconvert_exporter": "python",
   "pygments_lexer": "ipython3",
   "version": "3.9.7"
  }
 },
 "nbformat": 4,
 "nbformat_minor": 5
}
