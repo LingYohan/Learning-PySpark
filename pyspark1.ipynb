{
 "cells": [
  {
   "cell_type": "code",
   "execution_count": 1,
   "id": "ead14ed1",
   "metadata": {},
   "outputs": [],
   "source": [
    "from pyspark.sql import SparkSession"
   ]
  },
  {
   "cell_type": "code",
   "execution_count": 8,
   "id": "50a8859e",
   "metadata": {},
   "outputs": [],
   "source": [
    "spark = SparkSession.builder.appName('DataFrame').getOrCreate()"
   ]
  },
  {
   "cell_type": "code",
   "execution_count": 9,
   "id": "3d65a005",
   "metadata": {},
   "outputs": [
    {
     "data": {
      "text/html": [
       "\n",
       "            <div>\n",
       "                <p><b>SparkSession - in-memory</b></p>\n",
       "                \n",
       "        <div>\n",
       "            <p><b>SparkContext</b></p>\n",
       "\n",
       "            <p><a href=\"http://LingYohan:4041\">Spark UI</a></p>\n",
       "\n",
       "            <dl>\n",
       "              <dt>Version</dt>\n",
       "                <dd><code>v3.3.2</code></dd>\n",
       "              <dt>Master</dt>\n",
       "                <dd><code>local[*]</code></dd>\n",
       "              <dt>AppName</dt>\n",
       "                <dd><code>DataFrame</code></dd>\n",
       "            </dl>\n",
       "        </div>\n",
       "        \n",
       "            </div>\n",
       "        "
      ],
      "text/plain": [
       "<pyspark.sql.session.SparkSession at 0x15c41233940>"
      ]
     },
     "execution_count": 9,
     "metadata": {},
     "output_type": "execute_result"
    }
   ],
   "source": [
    "spark"
   ]
  },
  {
   "cell_type": "code",
   "execution_count": 74,
   "id": "6cffad3c",
   "metadata": {},
   "outputs": [],
   "source": [
    "df_pyspark = spark.read.option('header', 'true').csv('test.csv',inferSchema=True)"
   ]
  },
  {
   "cell_type": "code",
   "execution_count": 75,
   "id": "ec3f4158",
   "metadata": {},
   "outputs": [
    {
     "name": "stdout",
     "output_type": "stream",
     "text": [
      "root\n",
      " |-- NAME: string (nullable = true)\n",
      " |-- AGE: integer (nullable = true)\n",
      " |-- EXPERIENCE: integer (nullable = true)\n",
      "\n"
     ]
    }
   ],
   "source": [
    "df_pyspark.printSchema()"
   ]
  },
  {
   "cell_type": "code",
   "execution_count": 76,
   "id": "0b4c4de0",
   "metadata": {},
   "outputs": [
    {
     "name": "stdout",
     "output_type": "stream",
     "text": [
      "+----+---+----------+\n",
      "|NAME|AGE|EXPERIENCE|\n",
      "+----+---+----------+\n",
      "|JON | 21|        10|\n",
      "| VON| 23|        20|\n",
      "| RON| 25|        30|\n",
      "+----+---+----------+\n",
      "\n",
      "root\n",
      " |-- NAME: string (nullable = true)\n",
      " |-- AGE: integer (nullable = true)\n",
      " |-- EXPERIENCE: integer (nullable = true)\n",
      "\n"
     ]
    }
   ],
   "source": [
    "df_pyspark=spark.read.csv('test.csv', header=True, inferSchema=True)\n",
    "df_pyspark.show()\n",
    "df_pyspark.printSchema()"
   ]
  },
  {
   "cell_type": "code",
   "execution_count": 23,
   "id": "79622658",
   "metadata": {},
   "outputs": [
    {
     "data": {
      "text/plain": [
       "pyspark.sql.dataframe.DataFrame"
      ]
     },
     "execution_count": 23,
     "metadata": {},
     "output_type": "execute_result"
    }
   ],
   "source": [
    "type(df_pyspark)"
   ]
  },
  {
   "cell_type": "code",
   "execution_count": 26,
   "id": "37987eab",
   "metadata": {},
   "outputs": [
    {
     "data": {
      "text/plain": [
       "[Row(NAME='JON ', AGE=21, EXPERIENCE=10),\n",
       " Row(NAME='VON', AGE=23, EXPERIENCE=20),\n",
       " Row(NAME='RON', AGE=25, EXPERIENCE=30)]"
      ]
     },
     "execution_count": 26,
     "metadata": {},
     "output_type": "execute_result"
    }
   ],
   "source": [
    "df_pyspark.head(3)"
   ]
  },
  {
   "cell_type": "code",
   "execution_count": 32,
   "id": "1e693d6b",
   "metadata": {},
   "outputs": [
    {
     "name": "stdout",
     "output_type": "stream",
     "text": [
      "+----+----------+\n",
      "|NAME|EXPERIENCE|\n",
      "+----+----------+\n",
      "|JON |        10|\n",
      "| VON|        20|\n",
      "| RON|        30|\n",
      "+----+----------+\n",
      "\n"
     ]
    }
   ],
   "source": [
    " df_pyspark.select(['NAME','EXPERIENCE']).show()"
   ]
  },
  {
   "cell_type": "code",
   "execution_count": 37,
   "id": "f11db109",
   "metadata": {},
   "outputs": [
    {
     "name": "stdout",
     "output_type": "stream",
     "text": [
      "+---+\n",
      "|AGE|\n",
      "+---+\n",
      "| 21|\n",
      "| 23|\n",
      "| 25|\n",
      "+---+\n",
      "\n"
     ]
    }
   ],
   "source": [
    "df_pyspark.select('AGE').show()"
   ]
  },
  {
   "cell_type": "code",
   "execution_count": 38,
   "id": "f51f6c41",
   "metadata": {},
   "outputs": [
    {
     "data": {
      "text/plain": [
       "[('NAME', 'string'), ('AGE', 'int'), ('EXPERIENCE', 'int')]"
      ]
     },
     "execution_count": 38,
     "metadata": {},
     "output_type": "execute_result"
    }
   ],
   "source": [
    "df_pyspark.dtypes"
   ]
  },
  {
   "cell_type": "code",
   "execution_count": 55,
   "id": "e051149c",
   "metadata": {},
   "outputs": [
    {
     "name": "stdout",
     "output_type": "stream",
     "text": [
      "+-------+----+----+----------+\n",
      "|summary|NAME| AGE|EXPERIENCE|\n",
      "+-------+----+----+----------+\n",
      "|  count|   3|   3|         3|\n",
      "|   mean|null|23.0|      20.0|\n",
      "| stddev|null| 2.0|      10.0|\n",
      "|    min|JON |  21|        10|\n",
      "|    max| VON|  25|        30|\n",
      "+-------+----+----+----------+\n",
      "\n"
     ]
    }
   ],
   "source": [
    "df_pyspark.describe().show()"
   ]
  },
  {
   "cell_type": "code",
   "execution_count": 56,
   "id": "af78177e",
   "metadata": {},
   "outputs": [],
   "source": [
    "## adding columns to dataframes\n",
    "df_pyspark = df_pyspark.withColumn('EXPERIENCE AFTER 2 YEARS', df_pyspark['EXPERIENCE']+2)"
   ]
  },
  {
   "cell_type": "code",
   "execution_count": 61,
   "id": "22df639d",
   "metadata": {},
   "outputs": [
    {
     "name": "stdout",
     "output_type": "stream",
     "text": [
      "+----+---+----------+\n",
      "|NAME|AGE|EXPERIENCE|\n",
      "+----+---+----------+\n",
      "|JON | 21|        10|\n",
      "| VON| 23|        20|\n",
      "| RON| 25|        30|\n",
      "+----+---+----------+\n",
      "\n"
     ]
    }
   ],
   "source": [
    "## Drop the columns \n",
    "df_pyspark = df_pyspark.drop('EXPERIENCE AFTER 2 YEARS')\n",
    "df_pyspark.show()"
   ]
  },
  {
   "cell_type": "code",
   "execution_count": 79,
   "id": "19f41e84",
   "metadata": {},
   "outputs": [],
   "source": [
    "## Renaming the columns\n",
    "df_pyspark = df_pyspark.withColumnRenamed('NAME','NEW NAME')"
   ]
  },
  {
   "cell_type": "code",
   "execution_count": 80,
   "id": "bcc68ef5",
   "metadata": {},
   "outputs": [
    {
     "name": "stdout",
     "output_type": "stream",
     "text": [
      "+--------+---+----------+\n",
      "|NEW NAME|AGE|EXPERIENCE|\n",
      "+--------+---+----------+\n",
      "|    JON | 21|        10|\n",
      "|     VON| 23|        20|\n",
      "|     RON| 25|        30|\n",
      "+--------+---+----------+\n",
      "\n"
     ]
    }
   ],
   "source": [
    "df_pyspark.show()"
   ]
  },
  {
   "cell_type": "code",
   "execution_count": null,
   "id": "b1a70c1b",
   "metadata": {},
   "outputs": [],
   "source": []
  }
 ],
 "metadata": {
  "kernelspec": {
   "display_name": "newenv",
   "language": "python",
   "name": "newenv"
  },
  "language_info": {
   "codemirror_mode": {
    "name": "ipython",
    "version": 3
   },
   "file_extension": ".py",
   "mimetype": "text/x-python",
   "name": "python",
   "nbconvert_exporter": "python",
   "pygments_lexer": "ipython3",
   "version": "3.9.7"
  }
 },
 "nbformat": 4,
 "nbformat_minor": 5
}
