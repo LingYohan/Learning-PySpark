{
 "cells": [
  {
   "cell_type": "code",
   "execution_count": 1,
   "id": "27dddda8",
   "metadata": {},
   "outputs": [],
   "source": [
    "from pyspark.sql import SparkSession"
   ]
  },
  {
   "cell_type": "code",
   "execution_count": 2,
   "id": "b3acf652",
   "metadata": {},
   "outputs": [],
   "source": [
    "spark=SparkSession.builder.appName('dataframe').getOrCreate()"
   ]
  },
  {
   "cell_type": "code",
   "execution_count": 23,
   "id": "d16453be",
   "metadata": {},
   "outputs": [
    {
     "name": "stdout",
     "output_type": "stream",
     "text": [
      "+-----+----+----------+------+\n",
      "| NAME| AGE|EXPERIENCE|SALARY|\n",
      "+-----+----+----------+------+\n",
      "| JON |  31|        10| 30000|\n",
      "|  VON|  53|        20| 60000|\n",
      "|  RON|  25|         2| 10000|\n",
      "|BJORK|  23|         1| 10000|\n",
      "| DORK|null|      null| 30000|\n",
      "| null|  34|        10| 20000|\n",
      "| null|  36|      null|  null|\n",
      "+-----+----+----------+------+\n",
      "\n"
     ]
    }
   ],
   "source": [
    "df = spark.read.csv('test.csv',header=True,inferSchema=True)\n",
    "df.show()\n"
   ]
  },
  {
   "cell_type": "code",
   "execution_count": 24,
   "id": "1294433e",
   "metadata": {},
   "outputs": [],
   "source": [
    "from pyspark.ml.feature import Imputer\n",
    "\n",
    "df =  df.na.drop(subset='NAME')\n",
    "\n",
    "imputer = Imputer(\n",
    "    inputCols=['AGE','EXPERIENCE','SALARY'],\n",
    "    outputCols=['AGE','EXPERIENCE','SALARY']\n",
    ").setStrategy(\"mean\")"
   ]
  },
  {
   "cell_type": "code",
   "execution_count": 26,
   "id": "de2b423d",
   "metadata": {},
   "outputs": [
    {
     "name": "stdout",
     "output_type": "stream",
     "text": [
      "+-----+---+----------+------+\n",
      "| NAME|AGE|EXPERIENCE|SALARY|\n",
      "+-----+---+----------+------+\n",
      "| JON | 31|        10| 30000|\n",
      "|  VON| 53|        20| 60000|\n",
      "|  RON| 25|         2| 10000|\n",
      "|BJORK| 23|         1| 10000|\n",
      "| DORK| 33|         8| 30000|\n",
      "+-----+---+----------+------+\n",
      "\n"
     ]
    }
   ],
   "source": [
    "df = imputer.fit(df).transform(df)\n",
    "df.show()"
   ]
  },
  {
   "cell_type": "markdown",
   "id": "70671d7f",
   "metadata": {},
   "source": [
    "### FILTER OPERTATIONS"
   ]
  },
  {
   "cell_type": "code",
   "execution_count": 34,
   "id": "b6429b43",
   "metadata": {},
   "outputs": [
    {
     "name": "stdout",
     "output_type": "stream",
     "text": [
      "+-----+---+----------+------+\n",
      "| NAME|AGE|EXPERIENCE|SALARY|\n",
      "+-----+---+----------+------+\n",
      "| JON | 31|        10| 30000|\n",
      "|  RON| 25|         2| 10000|\n",
      "|BJORK| 23|         1| 10000|\n",
      "| DORK| 33|         8| 30000|\n",
      "+-----+---+----------+------+\n",
      "\n",
      "+-----+---+\n",
      "| NAME|AGE|\n",
      "+-----+---+\n",
      "| JON | 31|\n",
      "|  RON| 25|\n",
      "|BJORK| 23|\n",
      "| DORK| 33|\n",
      "+-----+---+\n",
      "\n"
     ]
    }
   ],
   "source": [
    "## Salary of people less than 20,000;\n",
    "df.filter('SALARY<=30000').show()\n",
    "df.filter('SALARY<=30000').select(['NAME','AGE']).show()"
   ]
  },
  {
   "cell_type": "code",
   "execution_count": 39,
   "id": "4c9cd877",
   "metadata": {},
   "outputs": [
    {
     "name": "stdout",
     "output_type": "stream",
     "text": [
      "+-----+---+----------+------+\n",
      "| NAME|AGE|EXPERIENCE|SALARY|\n",
      "+-----+---+----------+------+\n",
      "|  VON| 53|        20| 60000|\n",
      "|  RON| 25|         2| 10000|\n",
      "|BJORK| 23|         1| 10000|\n",
      "+-----+---+----------+------+\n",
      "\n"
     ]
    }
   ],
   "source": [
    "df.filter((df['SALARY']<=20000) | (df['SALARY']>=50000)).show()"
   ]
  },
  {
   "cell_type": "code",
   "execution_count": 40,
   "id": "0475fe7f",
   "metadata": {},
   "outputs": [
    {
     "name": "stdout",
     "output_type": "stream",
     "text": [
      "+----+---+----------+------+\n",
      "|NAME|AGE|EXPERIENCE|SALARY|\n",
      "+----+---+----------+------+\n",
      "|JON | 31|        10| 30000|\n",
      "| VON| 53|        20| 60000|\n",
      "|DORK| 33|         8| 30000|\n",
      "+----+---+----------+------+\n",
      "\n"
     ]
    }
   ],
   "source": [
    "df.filter(~(df['SALARY']<=20000)).show()"
   ]
  },
  {
   "cell_type": "code",
   "execution_count": null,
   "id": "5cd6d22e",
   "metadata": {},
   "outputs": [],
   "source": []
  }
 ],
 "metadata": {
  "kernelspec": {
   "display_name": "newenv",
   "language": "python",
   "name": "newenv"
  },
  "language_info": {
   "codemirror_mode": {
    "name": "ipython",
    "version": 3
   },
   "file_extension": ".py",
   "mimetype": "text/x-python",
   "name": "python",
   "nbconvert_exporter": "python",
   "pygments_lexer": "ipython3",
   "version": "3.9.7"
  }
 },
 "nbformat": 4,
 "nbformat_minor": 5
}
